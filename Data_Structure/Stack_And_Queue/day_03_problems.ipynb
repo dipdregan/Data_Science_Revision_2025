{
 "cells": [
  {
   "cell_type": "markdown",
   "metadata": {},
   "source": [
    "#### `Implementing the Stack using Linked List`"
   ]
  },
  {
   "cell_type": "code",
   "execution_count": 45,
   "metadata": {},
   "outputs": [],
   "source": [
    "class Node:\n",
    "    def __init__(self, data):\n",
    "        self.data = data\n",
    "        self.next = None\n",
    "\n",
    "class stack:\n",
    "    def __init__(self):\n",
    "        self.top = None\n",
    "        self._size = 0\n",
    "\n",
    "    def push(self, data):\n",
    "        new_node = Node(data)\n",
    "        new_node.next = self.top\n",
    "        self.top = new_node\n",
    "        self._size += 1\n",
    "        print(f\"Push data {data} on to stack\")\n",
    "\n",
    "    def pop(self):\n",
    "        if self.top is None:\n",
    "            print(\"stack is empty...!\")\n",
    "            return None\n",
    "        popped_data = self.top.data\n",
    "        self.top = self.top.next\n",
    "        self._size -= 1\n",
    "        print(f\"popped_data {popped_data} from stack\")\n",
    "        return popped_data\n",
    "    \n",
    "    def peek(self):\n",
    "        return self.top.data if self.top else None\n",
    "\n",
    "    def size(self):\n",
    "        return self._size\n",
    "    \n",
    "    \n",
    "    def display(self):\n",
    "        if self.size() == 0:\n",
    "            print(\"Stack is empty..! can't display\")\n",
    "\n",
    "        temp = self.top\n",
    "        while temp:\n",
    "            print(temp.data, end = \"->\")\n",
    "            temp = temp.next\n",
    "        print(\"None\")\n",
    "\n"
   ]
  },
  {
   "cell_type": "code",
   "execution_count": 46,
   "metadata": {},
   "outputs": [
    {
     "name": "stdout",
     "output_type": "stream",
     "text": [
      "Push data 11 on to stack\n",
      "Push data 12 on to stack\n",
      "Push data 13 on to stack\n",
      "displaying the stack \n",
      "13->12->11->None\n",
      "printing the size of stack: 3\n",
      "popped_data 13 from stack\n",
      "popped_data 12 from stack\n",
      "popped_data 11 from stack\n",
      "displaying the stack \n",
      "Stack is empty..! can't display\n",
      "None\n"
     ]
    }
   ],
   "source": [
    "st= stack()\n",
    "st.push(11)\n",
    "st.push(12)\n",
    "st.push(13)\n",
    "st.peek()\n",
    "print(\"displaying the stack \")\n",
    "st.display()\n",
    "print(f\"printing the size of stack: {st.size()}\")\n",
    "\n",
    "st.pop()\n",
    "st.pop()\n",
    "st.pop()\n",
    "print(\"displaying the stack \")\n",
    "st.display()\n"
   ]
  },
  {
   "cell_type": "markdown",
   "metadata": {},
   "source": [
    "#### `Implementing the Stack Using Array`"
   ]
  },
  {
   "cell_type": "code",
   "execution_count": 36,
   "metadata": {},
   "outputs": [],
   "source": [
    "class stack_using_array:\n",
    "    def __init__(self,size):\n",
    "        self.stack = [None]*size\n",
    "        self.top = -1\n",
    "        self.size = size\n",
    "     \n",
    "    def Push(self,data):\n",
    "        if self.top+1 == self.size:\n",
    "            print(\"stack is Overflow ..!\")\n",
    "            return None\n",
    "        self.top += 1\n",
    "        self.stack[self.top] = data\n",
    "\n",
    "    def Pop(self):\n",
    "        if self.top == -1:\n",
    "            print(\"Stack is Empty..!\")\n",
    "        popped_data = self.stack[self.top]\n",
    "        self.stack[self.top] = None\n",
    "        self.top -= 1\n",
    "        print(F\"Popped_element from the Stack {popped_data}\")\n",
    "\n",
    "    def Peek(self):\n",
    "        return self.stack[self.top] if self.top >-1 else 'Stack is Empty'\n",
    "    \n",
    "    def Size(self):\n",
    "        return self.top+1\n",
    "\n",
    "    def display(self):\n",
    "        return self.stack[:self.top+1]"
   ]
  },
  {
   "cell_type": "code",
   "execution_count": 39,
   "metadata": {},
   "outputs": [
    {
     "name": "stdout",
     "output_type": "stream",
     "text": [
      "displaying the stack \n",
      "[11, 12, 13]\n",
      "printing the size of stack: 3\n",
      "Popped_element from the Stack 13\n",
      "Popped_element from the Stack 12\n",
      "Popped_element from the Stack 11\n",
      "displaying the stack \n",
      "[]\n",
      "0\n"
     ]
    }
   ],
   "source": [
    "st= stack_using_array(3)\n",
    "st.Push(11)\n",
    "st.Push(12)\n",
    "st.Push(13)\n",
    "st.Peek()\n",
    "print(\"displaying the stack \")\n",
    "print(st.display())\n",
    "print(f\"printing the size of stack: {st.Size()}\")\n",
    "\n",
    "st.Pop()\n",
    "st.Pop()\n",
    "st.Pop()\n",
    "print(\"displaying the stack \")\n",
    "print(st.display())\n",
    "print(st.Size())"
   ]
  },
  {
   "cell_type": "markdown",
   "metadata": {},
   "source": [
    "#### `Balance Paranthese`"
   ]
  },
  {
   "cell_type": "code",
   "execution_count": 47,
   "metadata": {},
   "outputs": [
    {
     "data": {
      "text/plain": [
       "')'"
      ]
     },
     "execution_count": 47,
     "metadata": {},
     "output_type": "execute_result"
    }
   ],
   "source": [
    "mapping = {'(': ')', '[': ']', '{': '}'}\n",
    "mapping['(']"
   ]
  },
  {
   "cell_type": "code",
   "execution_count": 50,
   "metadata": {},
   "outputs": [
    {
     "name": "stdout",
     "output_type": "stream",
     "text": [
      "Push data ( on to stack\n",
      "popped_data ( from stack\n",
      "True\n",
      "Push data { on to stack\n",
      "Push data [ on to stack\n",
      "Push data ( on to stack\n",
      "popped_data ( from stack\n",
      "popped_data [ from stack\n",
      "popped_data { from stack\n",
      "True\n",
      "Push data { on to stack\n",
      "Push data [ on to stack\n",
      "Push data ( on to stack\n",
      "popped_data ( from stack\n",
      "False\n",
      "Push data ( on to stack\n",
      "Push data { on to stack\n",
      "Push data [ on to stack\n",
      "popped_data [ from stack\n",
      "False\n"
     ]
    }
   ],
   "source": [
    "def balance_paranthese(string):\n",
    "    st = stack()\n",
    "    mapping = {'(': ')', '[': ']', '{': '}'}\n",
    "    \n",
    "    for char in string:\n",
    "        if char in mapping.keys():\n",
    "            st.push(char)\n",
    "        elif char in mapping.values():\n",
    "            if st.size() == 0 or mapping[st.pop()] != char: \n",
    "                return False\n",
    "    \n",
    "    return st.size() == 0\n",
    "\n",
    "print(balance_paranthese(\"()\"))        # True\n",
    "print(balance_paranthese(\"{[()]}\"))    # True\n",
    "print(balance_paranthese(\"{[(])}\"))    # False\n",
    "print(balance_paranthese(\"({[)]}\"))"
   ]
  }
 ],
 "metadata": {
  "kernelspec": {
   "display_name": "base",
   "language": "python",
   "name": "python3"
  },
  "language_info": {
   "codemirror_mode": {
    "name": "ipython",
    "version": 3
   },
   "file_extension": ".py",
   "mimetype": "text/x-python",
   "name": "python",
   "nbconvert_exporter": "python",
   "pygments_lexer": "ipython3",
   "version": "3.11.5"
  }
 },
 "nbformat": 4,
 "nbformat_minor": 2
}
